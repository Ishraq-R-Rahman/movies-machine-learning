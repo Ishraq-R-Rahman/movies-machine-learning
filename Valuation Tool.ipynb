{
 "cells": [
  {
   "cell_type": "code",
   "execution_count": 2,
   "metadata": {},
   "outputs": [],
   "source": [
    "from sklearn.datasets import load_boston\n",
    "from sklearn.linear_model import LinearRegression\n",
    "from sklearn.metrics import mean_squared_error\n",
    "\n",
    "import numpy as np\n",
    "import pandas as pd"
   ]
  },
  {
   "cell_type": "code",
   "execution_count": 36,
   "metadata": {},
   "outputs": [
    {
     "data": {
      "text/plain": [
       "CRIM         3.613524\n",
       "ZN          11.363636\n",
       "CHAS         0.069170\n",
       "NOX          0.554695\n",
       "RM           6.284634\n",
       "DIS          3.795043\n",
       "RAD          9.549407\n",
       "TAX        408.237154\n",
       "PTRATIO     18.455534\n",
       "B          356.674032\n",
       "LSTAT       12.653063\n",
       "dtype: float64"
      ]
     },
     "execution_count": 36,
     "metadata": {},
     "output_type": "execute_result"
    }
   ],
   "source": [
    "# Data collection\n",
    "boston_dataset = load_boston()\n",
    "\n",
    "data = pd.DataFrame( data = boston_dataset.data , columns= boston_dataset.feature_names )\n",
    "\n",
    "features = data.drop(['INDUS' , 'AGE'] , axis = 1)\n",
    "\n",
    "log_prices = np.log( boston_dataset.target )\n",
    "\n",
    "target = pd.DataFrame( log_prices , columns=['PRICE'] )\n",
    "\n",
    "features.mean()"
   ]
  },
  {
   "cell_type": "code",
   "execution_count": 35,
   "metadata": {},
   "outputs": [
    {
     "data": {
      "text/plain": [
       "array([[3.61352356e+00, 1.13636364e+01, 6.91699605e-02, 5.54695059e-01,\n",
       "        6.28463439e+00, 3.79504269e+00, 9.54940711e+00, 4.08237154e+02,\n",
       "        1.84555336e+01, 3.56674032e+02, 1.26530632e+01]])"
      ]
     },
     "execution_count": 35,
     "metadata": {},
     "output_type": "execute_result"
    }
   ],
   "source": [
    "# Making a template for data input\n",
    "property_stats = np.ndarray( shape=(1,11) )\n",
    "\n",
    "property_stats = features.mean().values.reshape(1,11)\n",
    "property_stats"
   ]
  },
  {
   "cell_type": "code",
   "execution_count": 31,
   "metadata": {},
   "outputs": [],
   "source": [
    "regr = LinearRegression().fit( features , target )\n",
    "\n",
    "fitted_vals = regr.predict( features )\n",
    "MSE = mean_squared_error( target , fitted_vals )\n",
    "RMSE = np.sqrt( MSE )\n"
   ]
  },
  {
   "cell_type": "code",
   "execution_count": 41,
   "metadata": {},
   "outputs": [],
   "source": [
    "def get_log_estimate( nr_of_rooms ,\n",
    "                      students_per_classroom ,\n",
    "                      next_to_river = False,\n",
    "                      high_confidence = True  ):\n",
    "    \n",
    "    # Configuring Property\n",
    "    property_stats[0][4] = nr_of_rooms\n",
    "    property_stats[0][8] = students_per_classroom\n",
    "    \n",
    "    if next_to_river:\n",
    "        property_stats[0][2] = 1\n",
    "    else:\n",
    "        property_stats[0][2] = 0\n",
    "        \n",
    "    if high_confidence:\n",
    "        bound = 2\n",
    "        interval =95\n",
    "    else:\n",
    "        bound = 1\n",
    "        interval = 68\n",
    "    \n",
    "        \n",
    "    # Make Prediction\n",
    "    log_estimate = regr.predict( property_stats )[0][0]\n",
    "    \n",
    "    upper_bound = log_estimate + bound * RMSE\n",
    "    lower_bound = log_estimate - bound * RMSE\n",
    "    \n",
    "    return log_estimate, upper_bound, lower_bound , interval\n",
    "    "
   ]
  },
  {
   "cell_type": "code",
   "execution_count": 43,
   "metadata": {},
   "outputs": [
    {
     "data": {
      "text/plain": [
       "(2.776758191480399, 2.9642703266775294, 2.589246056283269, 68)"
      ]
     },
     "execution_count": 43,
     "metadata": {},
     "output_type": "execute_result"
    }
   ],
   "source": [
    "get_log_estimate( 3 , 20 , next_to_river=True , high_confidence=False)"
   ]
  },
  {
   "cell_type": "code",
   "execution_count": 55,
   "metadata": {},
   "outputs": [
    {
     "name": "stdout",
     "output_type": "stream",
     "text": [
      "827000.0\n",
      "1824000.0\n",
      "142000.0\n"
     ]
    }
   ],
   "source": [
    "ZILLOW_MEDIAN_PRICE = 583.3\n",
    "\n",
    "SCALE_FACTOR = ZILLOW_MEDIAN_PRICE / np.median( boston_dataset.target )\n"
   ]
  },
  {
   "cell_type": "code",
   "execution_count": 62,
   "metadata": {},
   "outputs": [],
   "source": [
    "def get_dollar_estimate( rm , ptratio , chas = False , hf = True ):\n",
    "    \n",
    "    \"\"\"\n",
    "        Estimate the price of a property in Boston in current day and age\n",
    "        \n",
    "        Keyword argments:\n",
    "        rm -- number of rooms in the property\n",
    "        ptratio -- pupil teacher ratio\n",
    "        chas -- close to Charles river\n",
    "        hf -- True for 95% , False for 68% prediction interval\n",
    "    \"\"\"\n",
    "    \n",
    "    if rm < 1 or ptratio < 1 :\n",
    "        return\n",
    "    \n",
    "    log_estiamte , upper , lower , conf = get_log_estimate( rm , students_per_classroom=ptratio , \n",
    "                                                           next_to_river=chas , high_confidence=hf)\n",
    "\n",
    "    # Convert to todays dollars\n",
    "    dollar_est = np.e** log_estiamte * 1000 * SCALE_FACTOR\n",
    "    dollar_hi = np.e** upper * 1000 * SCALE_FACTOR\n",
    "    dollar_low = np.e** lower * 1000 * SCALE_FACTOR\n",
    "\n",
    "\n",
    "    # Round the use to nearest thousand\n",
    "    rounded_est = np.around( dollar_est , -3)\n",
    "    rounded_hi = np.around( dollar_hi , -3)\n",
    "    rounded_low = np.around( dollar_low , -3)\n",
    "\n",
    "\n",
    "    print( rounded_est )\n",
    "    print( rounded_hi + rounded_est )\n",
    "    print( rounded_est - rounded_low )"
   ]
  },
  {
   "cell_type": "code",
   "execution_count": 59,
   "metadata": {},
   "outputs": [
    {
     "name": "stdout",
     "output_type": "stream",
     "text": [
      "404000.0\n",
      "991000.0\n",
      "127000.0\n"
     ]
    }
   ],
   "source": [
    "get_dollar_estimate( 2 , 20 , True)"
   ]
  },
  {
   "cell_type": "code",
   "execution_count": null,
   "metadata": {},
   "outputs": [],
   "source": []
  }
 ],
 "metadata": {
  "kernelspec": {
   "display_name": "Python 3",
   "language": "python",
   "name": "python3"
  },
  "language_info": {
   "codemirror_mode": {
    "name": "ipython",
    "version": 3
   },
   "file_extension": ".py",
   "mimetype": "text/x-python",
   "name": "python",
   "nbconvert_exporter": "python",
   "pygments_lexer": "ipython3",
   "version": "3.8.5"
  }
 },
 "nbformat": 4,
 "nbformat_minor": 4
}
